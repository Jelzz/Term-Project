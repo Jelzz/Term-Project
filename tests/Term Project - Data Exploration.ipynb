{
 "cells": [
  {
   "cell_type": "markdown",
   "id": "907ea80d-f587-4a37-841f-cfcf357b82d0",
   "metadata": {},
   "source": [
    "## Import Libraries and Read Data"
   ]
  },
  {
   "cell_type": "code",
   "execution_count": 16,
   "id": "952ca435-27da-4cb9-b35c-6f7bde021d38",
   "metadata": {},
   "outputs": [],
   "source": [
    "import pandas as pd\n",
    "import matplotlib as m\n",
    "import matplotlib.pyplot as plt\n",
    "\n",
    "file = '../2024_nwsl_0525.csv'\n",
    "df = pd.read_csv(file)"
   ]
  },
  {
   "cell_type": "markdown",
   "id": "df5941ab-76f9-4069-a510-156b00134a3a",
   "metadata": {},
   "source": [
    "## Data Exploration"
   ]
  },
  {
   "cell_type": "code",
   "execution_count": 17,
   "id": "0623d4cf-7297-4751-afb0-7cdc6d1d6d55",
   "metadata": {},
   "outputs": [
    {
     "data": {
      "text/html": [
       "<div>\n",
       "<style scoped>\n",
       "    .dataframe tbody tr th:only-of-type {\n",
       "        vertical-align: middle;\n",
       "    }\n",
       "\n",
       "    .dataframe tbody tr th {\n",
       "        vertical-align: top;\n",
       "    }\n",
       "\n",
       "    .dataframe thead th {\n",
       "        text-align: right;\n",
       "    }\n",
       "</style>\n",
       "<table border=\"1\" class=\"dataframe\">\n",
       "  <thead>\n",
       "    <tr style=\"text-align: right;\">\n",
       "      <th></th>\n",
       "      <th>team</th>\n",
       "      <th>player_name</th>\n",
       "      <th>conc_player_name</th>\n",
       "      <th>position</th>\n",
       "      <th>games_played</th>\n",
       "      <th>games_started</th>\n",
       "      <th>minutes_played</th>\n",
       "      <th>goals</th>\n",
       "      <th>accurate_pass_percentage</th>\n",
       "      <th>assists</th>\n",
       "      <th>...</th>\n",
       "      <th>successful_dribble</th>\n",
       "      <th>dribble_percentage</th>\n",
       "      <th>goals_and_assists</th>\n",
       "      <th>tackles.1</th>\n",
       "      <th>tackles_percentage</th>\n",
       "      <th>interceptions</th>\n",
       "      <th>headed_duel</th>\n",
       "      <th>gk_saves</th>\n",
       "      <th>gk_long_ball_percentage</th>\n",
       "      <th>gk_total_clearance</th>\n",
       "    </tr>\n",
       "  </thead>\n",
       "  <tbody>\n",
       "    <tr>\n",
       "      <th>0</th>\n",
       "      <td>Orlando Pride</td>\n",
       "      <td>Kerry Abello</td>\n",
       "      <td>KERRYABELLO</td>\n",
       "      <td>DEFENDER</td>\n",
       "      <td>11</td>\n",
       "      <td>11.0</td>\n",
       "      <td>927</td>\n",
       "      <td>0</td>\n",
       "      <td>81</td>\n",
       "      <td>1</td>\n",
       "      <td>...</td>\n",
       "      <td>12</td>\n",
       "      <td>52</td>\n",
       "      <td>1</td>\n",
       "      <td>13</td>\n",
       "      <td>45</td>\n",
       "      <td>10</td>\n",
       "      <td>5</td>\n",
       "      <td>NaN</td>\n",
       "      <td>NaN</td>\n",
       "      <td>NaN</td>\n",
       "    </tr>\n",
       "    <tr>\n",
       "      <th>1</th>\n",
       "      <td>Seattle Reign</td>\n",
       "      <td>Emeri Adames</td>\n",
       "      <td>EMERIADAMES</td>\n",
       "      <td>FORWARD</td>\n",
       "      <td>11</td>\n",
       "      <td>3.0</td>\n",
       "      <td>273</td>\n",
       "      <td>1</td>\n",
       "      <td>75</td>\n",
       "      <td>0</td>\n",
       "      <td>...</td>\n",
       "      <td>3</td>\n",
       "      <td>20</td>\n",
       "      <td>1</td>\n",
       "      <td>3</td>\n",
       "      <td>60</td>\n",
       "      <td>3</td>\n",
       "      <td>7</td>\n",
       "      <td>NaN</td>\n",
       "      <td>NaN</td>\n",
       "      <td>NaN</td>\n",
       "    </tr>\n",
       "    <tr>\n",
       "      <th>2</th>\n",
       "      <td>Orlando Pride</td>\n",
       "      <td>Adriana</td>\n",
       "      <td>ADRIANA</td>\n",
       "      <td>FORWARD</td>\n",
       "      <td>9</td>\n",
       "      <td>7.0</td>\n",
       "      <td>641</td>\n",
       "      <td>1</td>\n",
       "      <td>76</td>\n",
       "      <td>1</td>\n",
       "      <td>...</td>\n",
       "      <td>11</td>\n",
       "      <td>41</td>\n",
       "      <td>2</td>\n",
       "      <td>2</td>\n",
       "      <td>50</td>\n",
       "      <td>5</td>\n",
       "      <td>4</td>\n",
       "      <td>NaN</td>\n",
       "      <td>NaN</td>\n",
       "      <td>NaN</td>\n",
       "    </tr>\n",
       "    <tr>\n",
       "      <th>3</th>\n",
       "      <td>San Diego Wave FC</td>\n",
       "      <td>Amirah Ali</td>\n",
       "      <td>AMIRAHALI</td>\n",
       "      <td>FORWARD</td>\n",
       "      <td>5</td>\n",
       "      <td>1.0</td>\n",
       "      <td>114</td>\n",
       "      <td>0</td>\n",
       "      <td>63</td>\n",
       "      <td>0</td>\n",
       "      <td>...</td>\n",
       "      <td>1</td>\n",
       "      <td>33</td>\n",
       "      <td>0</td>\n",
       "      <td>2</td>\n",
       "      <td>67</td>\n",
       "      <td>1</td>\n",
       "      <td>2</td>\n",
       "      <td>NaN</td>\n",
       "      <td>NaN</td>\n",
       "      <td>NaN</td>\n",
       "    </tr>\n",
       "    <tr>\n",
       "      <th>4</th>\n",
       "      <td>Orlando Pride</td>\n",
       "      <td>Amanda Allen</td>\n",
       "      <td>AMANDAALLEN</td>\n",
       "      <td>FORWARD</td>\n",
       "      <td>7</td>\n",
       "      <td>NaN</td>\n",
       "      <td>81</td>\n",
       "      <td>0</td>\n",
       "      <td>70</td>\n",
       "      <td>1</td>\n",
       "      <td>...</td>\n",
       "      <td>3</td>\n",
       "      <td>60</td>\n",
       "      <td>1</td>\n",
       "      <td>3</td>\n",
       "      <td>60</td>\n",
       "      <td>0</td>\n",
       "      <td>0</td>\n",
       "      <td>NaN</td>\n",
       "      <td>NaN</td>\n",
       "      <td>NaN</td>\n",
       "    </tr>\n",
       "  </tbody>\n",
       "</table>\n",
       "<p>5 rows × 41 columns</p>\n",
       "</div>"
      ],
      "text/plain": [
       "                team   player_name conc_player_name  position  games_played  \\\n",
       "0      Orlando Pride  Kerry Abello      KERRYABELLO  DEFENDER            11   \n",
       "1      Seattle Reign  Emeri Adames      EMERIADAMES   FORWARD            11   \n",
       "2      Orlando Pride       Adriana          ADRIANA   FORWARD             9   \n",
       "3  San Diego Wave FC    Amirah Ali        AMIRAHALI   FORWARD             5   \n",
       "4      Orlando Pride  Amanda Allen      AMANDAALLEN   FORWARD             7   \n",
       "\n",
       "   games_started  minutes_played  goals  accurate_pass_percentage  assists  \\\n",
       "0           11.0             927      0                        81        1   \n",
       "1            3.0             273      1                        75        0   \n",
       "2            7.0             641      1                        76        1   \n",
       "3            1.0             114      0                        63        0   \n",
       "4            NaN              81      0                        70        1   \n",
       "\n",
       "   ...  successful_dribble  dribble_percentage  goals_and_assists  tackles.1  \\\n",
       "0  ...                  12                  52                  1         13   \n",
       "1  ...                   3                  20                  1          3   \n",
       "2  ...                  11                  41                  2          2   \n",
       "3  ...                   1                  33                  0          2   \n",
       "4  ...                   3                  60                  1          3   \n",
       "\n",
       "   tackles_percentage  interceptions  headed_duel  gk_saves  \\\n",
       "0                  45             10            5       NaN   \n",
       "1                  60              3            7       NaN   \n",
       "2                  50              5            4       NaN   \n",
       "3                  67              1            2       NaN   \n",
       "4                  60              0            0       NaN   \n",
       "\n",
       "   gk_long_ball_percentage  gk_total_clearance  \n",
       "0                      NaN                 NaN  \n",
       "1                      NaN                 NaN  \n",
       "2                      NaN                 NaN  \n",
       "3                      NaN                 NaN  \n",
       "4                      NaN                 NaN  \n",
       "\n",
       "[5 rows x 41 columns]"
      ]
     },
     "execution_count": 17,
     "metadata": {},
     "output_type": "execute_result"
    }
   ],
   "source": [
    "df.head()"
   ]
  },
  {
   "cell_type": "code",
   "execution_count": 18,
   "id": "7e2e9c80-f06f-4de9-8036-fba2404f644e",
   "metadata": {
    "tags": []
   },
   "outputs": [
    {
     "name": "stdout",
     "output_type": "stream",
     "text": [
      "<class 'pandas.core.frame.DataFrame'>\n",
      "RangeIndex: 344 entries, 0 to 343\n",
      "Data columns (total 41 columns):\n",
      " #   Column                        Non-Null Count  Dtype  \n",
      "---  ------                        --------------  -----  \n",
      " 0   team                          343 non-null    object \n",
      " 1   player_name                   344 non-null    object \n",
      " 2   conc_player_name              344 non-null    object \n",
      " 3   position                      343 non-null    object \n",
      " 4   games_played                  344 non-null    int64  \n",
      " 5   games_started                 261 non-null    float64\n",
      " 6   minutes_played                344 non-null    int64  \n",
      " 7   goals                         344 non-null    int64  \n",
      " 8   accurate_pass_percentage      344 non-null    int64  \n",
      " 9   assists                       344 non-null    int64  \n",
      " 10  total_scoring_attempts        344 non-null    int64  \n",
      " 11  on_target_scoring_attempts    344 non-null    int64  \n",
      " 12  total_attacking_assists       344 non-null    int64  \n",
      " 13  tackles                       344 non-null    int64  \n",
      " 14  fouls_committed               344 non-null    int64  \n",
      " 15  fouls_suffered                344 non-null    int64  \n",
      " 16  total_offside                 344 non-null    int64  \n",
      " 17  yellow_cards                  344 non-null    int64  \n",
      " 18  red_cards                     344 non-null    int64  \n",
      " 19  accurate_passes               344 non-null    int64  \n",
      " 20  total_passes                  344 non-null    int64  \n",
      " 21  crosses                       344 non-null    int64  \n",
      " 22  assists_avg_over_90_mins      344 non-null    float64\n",
      " 23  long_balls                    344 non-null    int64  \n",
      " 24  successful_short_passes       344 non-null    int64  \n",
      " 25  turnovers                     344 non-null    int64  \n",
      " 26  goals_avg_over_90_mins        344 non-null    float64\n",
      " 27  penalty_kick_goals            344 non-null    int64  \n",
      " 28  penalty_kick_taken            344 non-null    int64  \n",
      " 29  penalty_kick_percentage       344 non-null    int64  \n",
      " 30  accurate_shooting_percentage  344 non-null    int64  \n",
      " 31  successful_dribble            344 non-null    int64  \n",
      " 32  dribble_percentage            344 non-null    int64  \n",
      " 33  goals_and_assists             344 non-null    int64  \n",
      " 34  tackles.1                     344 non-null    int64  \n",
      " 35  tackles_percentage            344 non-null    int64  \n",
      " 36  interceptions                 344 non-null    int64  \n",
      " 37  headed_duel                   344 non-null    int64  \n",
      " 38  gk_saves                      39 non-null     float64\n",
      " 39  gk_long_ball_percentage       39 non-null     float64\n",
      " 40  gk_total_clearance            39 non-null     float64\n",
      "dtypes: float64(6), int64(31), object(4)\n",
      "memory usage: 110.3+ KB\n"
     ]
    }
   ],
   "source": [
    "df.info()"
   ]
  },
  {
   "cell_type": "code",
   "execution_count": 19,
   "id": "d86e27ef-bea8-4966-8086-b36af205d13c",
   "metadata": {},
   "outputs": [
    {
     "name": "stdout",
     "output_type": "stream",
     "text": [
      "MIDFIELDER    108\n",
      "DEFENDER      100\n",
      "FORWARD        96\n",
      "GOALKEEPER     39\n",
      "Name: position, dtype: int64\n"
     ]
    }
   ],
   "source": [
    "# Count the occurrences of each value in the 'position' column\n",
    "value_counts = df['position'].value_counts()\n",
    "\n",
    "print(value_counts)"
   ]
  },
  {
   "cell_type": "markdown",
   "id": "3ddd82e0-7085-459e-83e3-65f37bb81ed7",
   "metadata": {},
   "source": [
    "## Create a new dataframe for Forwards\n",
    "I'm interested in exploring what factors are correlated with a forward scoring a goal. For example, if more minutes played, more passes, or more successful dribbles mean the player is more likely to score a goal.\n",
    "\n",
    "So we'll explore the data and see if there's any trends."
   ]
  },
  {
   "cell_type": "code",
   "execution_count": 20,
   "id": "59c20503-ff01-440c-99af-c12cbcc1fa87",
   "metadata": {},
   "outputs": [
    {
     "data": {
      "text/html": [
       "<div>\n",
       "<style scoped>\n",
       "    .dataframe tbody tr th:only-of-type {\n",
       "        vertical-align: middle;\n",
       "    }\n",
       "\n",
       "    .dataframe tbody tr th {\n",
       "        vertical-align: top;\n",
       "    }\n",
       "\n",
       "    .dataframe thead th {\n",
       "        text-align: right;\n",
       "    }\n",
       "</style>\n",
       "<table border=\"1\" class=\"dataframe\">\n",
       "  <thead>\n",
       "    <tr style=\"text-align: right;\">\n",
       "      <th></th>\n",
       "      <th>team</th>\n",
       "      <th>player_name</th>\n",
       "      <th>conc_player_name</th>\n",
       "      <th>position</th>\n",
       "      <th>games_played</th>\n",
       "      <th>games_started</th>\n",
       "      <th>minutes_played</th>\n",
       "      <th>goals</th>\n",
       "      <th>accurate_pass_percentage</th>\n",
       "      <th>assists</th>\n",
       "      <th>...</th>\n",
       "      <th>successful_dribble</th>\n",
       "      <th>dribble_percentage</th>\n",
       "      <th>goals_and_assists</th>\n",
       "      <th>tackles.1</th>\n",
       "      <th>tackles_percentage</th>\n",
       "      <th>interceptions</th>\n",
       "      <th>headed_duel</th>\n",
       "      <th>gk_saves</th>\n",
       "      <th>gk_long_ball_percentage</th>\n",
       "      <th>gk_total_clearance</th>\n",
       "    </tr>\n",
       "  </thead>\n",
       "  <tbody>\n",
       "    <tr>\n",
       "      <th>1</th>\n",
       "      <td>Seattle Reign</td>\n",
       "      <td>Emeri Adames</td>\n",
       "      <td>EMERIADAMES</td>\n",
       "      <td>FORWARD</td>\n",
       "      <td>11</td>\n",
       "      <td>3.0</td>\n",
       "      <td>273</td>\n",
       "      <td>1</td>\n",
       "      <td>75</td>\n",
       "      <td>0</td>\n",
       "      <td>...</td>\n",
       "      <td>3</td>\n",
       "      <td>20</td>\n",
       "      <td>1</td>\n",
       "      <td>3</td>\n",
       "      <td>60</td>\n",
       "      <td>3</td>\n",
       "      <td>7</td>\n",
       "      <td>NaN</td>\n",
       "      <td>NaN</td>\n",
       "      <td>NaN</td>\n",
       "    </tr>\n",
       "    <tr>\n",
       "      <th>2</th>\n",
       "      <td>Orlando Pride</td>\n",
       "      <td>Adriana</td>\n",
       "      <td>ADRIANA</td>\n",
       "      <td>FORWARD</td>\n",
       "      <td>9</td>\n",
       "      <td>7.0</td>\n",
       "      <td>641</td>\n",
       "      <td>1</td>\n",
       "      <td>76</td>\n",
       "      <td>1</td>\n",
       "      <td>...</td>\n",
       "      <td>11</td>\n",
       "      <td>41</td>\n",
       "      <td>2</td>\n",
       "      <td>2</td>\n",
       "      <td>50</td>\n",
       "      <td>5</td>\n",
       "      <td>4</td>\n",
       "      <td>NaN</td>\n",
       "      <td>NaN</td>\n",
       "      <td>NaN</td>\n",
       "    </tr>\n",
       "    <tr>\n",
       "      <th>3</th>\n",
       "      <td>San Diego Wave FC</td>\n",
       "      <td>Amirah Ali</td>\n",
       "      <td>AMIRAHALI</td>\n",
       "      <td>FORWARD</td>\n",
       "      <td>5</td>\n",
       "      <td>1.0</td>\n",
       "      <td>114</td>\n",
       "      <td>0</td>\n",
       "      <td>63</td>\n",
       "      <td>0</td>\n",
       "      <td>...</td>\n",
       "      <td>1</td>\n",
       "      <td>33</td>\n",
       "      <td>0</td>\n",
       "      <td>2</td>\n",
       "      <td>67</td>\n",
       "      <td>1</td>\n",
       "      <td>2</td>\n",
       "      <td>NaN</td>\n",
       "      <td>NaN</td>\n",
       "      <td>NaN</td>\n",
       "    </tr>\n",
       "    <tr>\n",
       "      <th>4</th>\n",
       "      <td>Orlando Pride</td>\n",
       "      <td>Amanda Allen</td>\n",
       "      <td>AMANDAALLEN</td>\n",
       "      <td>FORWARD</td>\n",
       "      <td>7</td>\n",
       "      <td>NaN</td>\n",
       "      <td>81</td>\n",
       "      <td>0</td>\n",
       "      <td>70</td>\n",
       "      <td>1</td>\n",
       "      <td>...</td>\n",
       "      <td>3</td>\n",
       "      <td>60</td>\n",
       "      <td>1</td>\n",
       "      <td>3</td>\n",
       "      <td>60</td>\n",
       "      <td>0</td>\n",
       "      <td>0</td>\n",
       "      <td>NaN</td>\n",
       "      <td>NaN</td>\n",
       "      <td>NaN</td>\n",
       "    </tr>\n",
       "    <tr>\n",
       "      <th>6</th>\n",
       "      <td>Houston Dash</td>\n",
       "      <td>Michelle Alozie</td>\n",
       "      <td>MICHELLEALOZIE</td>\n",
       "      <td>FORWARD</td>\n",
       "      <td>10</td>\n",
       "      <td>5.0</td>\n",
       "      <td>480</td>\n",
       "      <td>0</td>\n",
       "      <td>65</td>\n",
       "      <td>1</td>\n",
       "      <td>...</td>\n",
       "      <td>3</td>\n",
       "      <td>25</td>\n",
       "      <td>1</td>\n",
       "      <td>3</td>\n",
       "      <td>50</td>\n",
       "      <td>2</td>\n",
       "      <td>22</td>\n",
       "      <td>NaN</td>\n",
       "      <td>NaN</td>\n",
       "      <td>NaN</td>\n",
       "    </tr>\n",
       "  </tbody>\n",
       "</table>\n",
       "<p>5 rows × 41 columns</p>\n",
       "</div>"
      ],
      "text/plain": [
       "                team      player_name conc_player_name position  games_played  \\\n",
       "1      Seattle Reign     Emeri Adames      EMERIADAMES  FORWARD            11   \n",
       "2      Orlando Pride          Adriana          ADRIANA  FORWARD             9   \n",
       "3  San Diego Wave FC       Amirah Ali        AMIRAHALI  FORWARD             5   \n",
       "4      Orlando Pride     Amanda Allen      AMANDAALLEN  FORWARD             7   \n",
       "6       Houston Dash  Michelle Alozie   MICHELLEALOZIE  FORWARD            10   \n",
       "\n",
       "   games_started  minutes_played  goals  accurate_pass_percentage  assists  \\\n",
       "1            3.0             273      1                        75        0   \n",
       "2            7.0             641      1                        76        1   \n",
       "3            1.0             114      0                        63        0   \n",
       "4            NaN              81      0                        70        1   \n",
       "6            5.0             480      0                        65        1   \n",
       "\n",
       "   ...  successful_dribble  dribble_percentage  goals_and_assists  tackles.1  \\\n",
       "1  ...                   3                  20                  1          3   \n",
       "2  ...                  11                  41                  2          2   \n",
       "3  ...                   1                  33                  0          2   \n",
       "4  ...                   3                  60                  1          3   \n",
       "6  ...                   3                  25                  1          3   \n",
       "\n",
       "   tackles_percentage  interceptions  headed_duel  gk_saves  \\\n",
       "1                  60              3            7       NaN   \n",
       "2                  50              5            4       NaN   \n",
       "3                  67              1            2       NaN   \n",
       "4                  60              0            0       NaN   \n",
       "6                  50              2           22       NaN   \n",
       "\n",
       "   gk_long_ball_percentage  gk_total_clearance  \n",
       "1                      NaN                 NaN  \n",
       "2                      NaN                 NaN  \n",
       "3                      NaN                 NaN  \n",
       "4                      NaN                 NaN  \n",
       "6                      NaN                 NaN  \n",
       "\n",
       "[5 rows x 41 columns]"
      ]
     },
     "execution_count": 20,
     "metadata": {},
     "output_type": "execute_result"
    }
   ],
   "source": [
    "forwards = df[df['position'] == 'FORWARD']\n",
    "forwards.head()"
   ]
  },
  {
   "cell_type": "code",
   "execution_count": 21,
   "id": "46573f98-018b-45c9-803c-cd5423ecbe36",
   "metadata": {
    "tags": []
   },
   "outputs": [
    {
     "data": {
      "image/png": "[encoded data removed]",
      "text/plain": [
       "<Figure size 640x480 with 1 Axes>"
      ]
     },
     "metadata": {},
     "output_type": "display_data"
    }
   ],
   "source": [
    "# Count the occurrences of each value in the 'position' column\n",
    "goal_frequency = df['goals'].value_counts()\n",
    "\n",
    "goal_frequency.plot(kind='bar')\n",
    "plt.title('Frequency of Forwards with Goals')\n",
    "plt.xlabel('Number of Goals')\n",
    "plt.ylabel('Number of Players')\n",
    "plt.show()"
   ]
  },
  {
   "cell_type": "markdown",
   "id": "66d56442-214f-48d6-a41f-f032ed272f7e",
   "metadata": {},
   "source": [
    "It seems like there are a lot of forwards with zero goals, many with 1 or 2, and then a drop off beyond 3.\n",
    "\n",
    "Let's try a scatter plot showing goals vs. minutes played, number of passes, and successful dribbles."
   ]
  },
  {
   "cell_type": "code",
   "execution_count": 22,
   "id": "f34a81ae-f757-4948-aec1-7e2804be936c",
   "metadata": {},
   "outputs": [
    {
     "data": {
      "text/plain": [
       "Text(0, 0.5, 'Minutes Played')"
      ]
     },
     "execution_count": 22,
     "metadata": {},
     "output_type": "execute_result"
    },
    {
     "data": {
      "image/png": "[encoded data removed]",
      "text/plain": [
       "<Figure size 640x480 with 1 Axes>"
      ]
     },
     "metadata": {},
     "output_type": "display_data"
    }
   ],
   "source": [
    "plt.scatter(forwards['goals'], forwards['minutes_played'])\n",
    "plt.title('Minutes Played vs. Goals')\n",
    "plt.xlabel('Goals')\n",
    "plt.ylabel('Minutes Played')"
   ]
  },
  {
   "cell_type": "markdown",
   "id": "6e965f02-5301-482c-827e-a32c1d2b08a5",
   "metadata": {},
   "source": [
    "### Insight #1:\n",
    "It looks like for players scoring 2 or more goals, they've generally played between 200 and 1000 minutes. For simplicity I'll use 200+ minutes, since it looks like there's maybe only 1 outlier above 1000 minutes."
   ]
  },
  {
   "cell_type": "code",
   "execution_count": 23,
   "id": "82fafbb4-20de-4a3d-a90f-13f7827592d4",
   "metadata": {},
   "outputs": [
    {
     "data": {
      "text/plain": [
       "Text(0, 0.5, 'Total Passes')"
      ]
     },
     "execution_count": 23,
     "metadata": {},
     "output_type": "execute_result"
    },
    {
     "data": {
      "image/png": "[encoded data removed]",
      "text/plain": [
       "<Figure size 640x480 with 1 Axes>"
      ]
     },
     "metadata": {},
     "output_type": "display_data"
    }
   ],
   "source": [
    "plt.scatter(forwards['goals'], forwards['total_passes'])\n",
    "plt.title('Total Passes vs. Goals')\n",
    "plt.xlabel('Goals')\n",
    "plt.ylabel('Total Passes')"
   ]
  },
  {
   "cell_type": "markdown",
   "id": "e7f61b0d-7eba-41ef-9241-b031e8f02bcb",
   "metadata": {},
   "source": [
    "### Insight #2:\n",
    "It looks like for players scoring 2 or more goals, they've made at least ~50 passes. Since there are only ~4 players below the 100 mark, we could probably generalize our decision tree to say players who scored 2+ goals made at least 100 passes."
   ]
  },
  {
   "cell_type": "code",
   "execution_count": 24,
   "id": "a3beb764-e696-4eb7-bcf8-17ed40773c30",
   "metadata": {},
   "outputs": [
    {
     "data": {
      "text/plain": [
       "Text(0, 0.5, 'Accurate Pass %')"
      ]
     },
     "execution_count": 24,
     "metadata": {},
     "output_type": "execute_result"
    },
    {
     "data": {
      "image/png": "[encoded data removed]",
      "text/plain": [
       "<Figure size 640x480 with 1 Axes>"
      ]
     },
     "metadata": {},
     "output_type": "display_data"
    }
   ],
   "source": [
    "plt.scatter(forwards['goals'], forwards['accurate_pass_percentage'])\n",
    "plt.title('Accurate Pass % vs. Goals')\n",
    "plt.xlabel('Goals')\n",
    "plt.ylabel('Accurate Pass %')"
   ]
  },
  {
   "cell_type": "markdown",
   "id": "2cbf8243-1198-4938-a88d-5e05284b951c",
   "metadata": {},
   "source": [
    "I'm not seeing much of a trend here, passing accuracy seems fairly consistent across forwards who have scored any amount of goals."
   ]
  },
  {
   "cell_type": "code",
   "execution_count": 25,
   "id": "e58fe89c-4636-42f5-a12f-791d6bb4f597",
   "metadata": {},
   "outputs": [
    {
     "data": {
      "text/plain": [
       "Text(0, 0.5, 'Games Played')"
      ]
     },
     "execution_count": 25,
     "metadata": {},
     "output_type": "execute_result"
    },
    {
     "data": {
      "image/png": "[encoded data removed]",
      "text/plain": [
       "<Figure size 640x480 with 1 Axes>"
      ]
     },
     "metadata": {},
     "output_type": "display_data"
    }
   ],
   "source": [
    "plt.scatter(forwards['goals'], forwards['games_played'])\n",
    "plt.title('Games Played vs. Goals')\n",
    "plt.xlabel('Goals')\n",
    "plt.ylabel('Games Played')"
   ]
  },
  {
   "cell_type": "markdown",
   "id": "7ed0e53f-2f5e-424a-8a7c-4986c2e47eaa",
   "metadata": {},
   "source": [
    "## Insight #3:\n",
    "It looks like for players with 2+ goals, they generally have played at least 7 games."
   ]
  },
  {
   "cell_type": "markdown",
   "id": "d71a71b3-f907-4676-96f0-729b685197ce",
   "metadata": {},
   "source": [
    "## Summary and Next Steps\n",
    "By exploring this data, we found that players with 2+ goals generally: \n",
    "- Played at least 200 minutes\n",
    "- Played at least 7 games\n",
    "- Made at least 50 passes\n",
    "\n",
    "Using this information, we'll create a decision tree in c++ which will test this theory: Whether or not getting significant playing time, in multiple (7+) games, and being involved in possession of at least 50 passes, are important to scoring more goals.\n",
    "\n",
    "We'll do this by splitting this data into psuedo- \"training\" and \"test\" data (although we're not actually training the decision tree model)."
   ]
  },
  {
   "cell_type": "markdown",
   "id": "5f831dc0-7570-422a-873f-ae579c15a576",
   "metadata": {},
   "source": [
    "#### _STOP HERE AND RUN THE DATA THROUGH THE C++ DECISION TREE :)_"
   ]
  },
  {
   "cell_type": "markdown",
   "id": "c7882acc-27ee-40cc-8a29-25cb15c9a903",
   "metadata": {},
   "source": [
    "## Testing our predictions\n",
    "We have now run the player data through the decision tree, and developed predictions of whether a player scored 2+ goals during the season. \n",
    "\n",
    "Now we'll do a quick calculation to check how accurate the decision tree was."
   ]
  },
  {
   "cell_type": "code",
   "execution_count": 26,
   "id": "6b01485e-e47b-45ce-ade3-3c82356c9a5d",
   "metadata": {},
   "outputs": [
    {
     "data": {
      "text/html": [
       "<div>\n",
       "<style scoped>\n",
       "    .dataframe tbody tr th:only-of-type {\n",
       "        vertical-align: middle;\n",
       "    }\n",
       "\n",
       "    .dataframe tbody tr th {\n",
       "        vertical-align: top;\n",
       "    }\n",
       "\n",
       "    .dataframe thead th {\n",
       "        text-align: right;\n",
       "    }\n",
       "</style>\n",
       "<table border=\"1\" class=\"dataframe\">\n",
       "  <thead>\n",
       "    <tr style=\"text-align: right;\">\n",
       "      <th></th>\n",
       "      <th>team</th>\n",
       "      <th>player_name</th>\n",
       "      <th>conc_player_name</th>\n",
       "      <th>position</th>\n",
       "      <th>games_played</th>\n",
       "      <th>games_started</th>\n",
       "      <th>minutes_played</th>\n",
       "      <th>goals</th>\n",
       "      <th>accurate_pass_percentage</th>\n",
       "      <th>assists</th>\n",
       "      <th>...</th>\n",
       "      <th>dribble_percentage</th>\n",
       "      <th>goals_and_assists</th>\n",
       "      <th>tackles.1</th>\n",
       "      <th>tackles_percentage</th>\n",
       "      <th>interceptions</th>\n",
       "      <th>headed_duel</th>\n",
       "      <th>gk_saves</th>\n",
       "      <th>gk_long_ball_percentage</th>\n",
       "      <th>gk_total_clearance</th>\n",
       "      <th>prediction</th>\n",
       "    </tr>\n",
       "  </thead>\n",
       "  <tbody>\n",
       "    <tr>\n",
       "      <th>0</th>\n",
       "      <td>Orlando Pride</td>\n",
       "      <td>Kerry Abello</td>\n",
       "      <td>KERRYABELLO</td>\n",
       "      <td>DEFENDER</td>\n",
       "      <td>11</td>\n",
       "      <td>11.0</td>\n",
       "      <td>927</td>\n",
       "      <td>0</td>\n",
       "      <td>81</td>\n",
       "      <td>1</td>\n",
       "      <td>...</td>\n",
       "      <td>52</td>\n",
       "      <td>1</td>\n",
       "      <td>13</td>\n",
       "      <td>45</td>\n",
       "      <td>10</td>\n",
       "      <td>5</td>\n",
       "      <td>NaN</td>\n",
       "      <td>NaN</td>\n",
       "      <td>NaN</td>\n",
       "      <td>1</td>\n",
       "    </tr>\n",
       "    <tr>\n",
       "      <th>1</th>\n",
       "      <td>Seattle Reign</td>\n",
       "      <td>Emeri Adames</td>\n",
       "      <td>EMERIADAMES</td>\n",
       "      <td>FORWARD</td>\n",
       "      <td>11</td>\n",
       "      <td>3.0</td>\n",
       "      <td>273</td>\n",
       "      <td>1</td>\n",
       "      <td>75</td>\n",
       "      <td>0</td>\n",
       "      <td>...</td>\n",
       "      <td>20</td>\n",
       "      <td>1</td>\n",
       "      <td>3</td>\n",
       "      <td>60</td>\n",
       "      <td>3</td>\n",
       "      <td>7</td>\n",
       "      <td>NaN</td>\n",
       "      <td>NaN</td>\n",
       "      <td>NaN</td>\n",
       "      <td>1</td>\n",
       "    </tr>\n",
       "    <tr>\n",
       "      <th>2</th>\n",
       "      <td>Orlando Pride</td>\n",
       "      <td>Adriana</td>\n",
       "      <td>ADRIANA</td>\n",
       "      <td>FORWARD</td>\n",
       "      <td>9</td>\n",
       "      <td>7.0</td>\n",
       "      <td>641</td>\n",
       "      <td>1</td>\n",
       "      <td>76</td>\n",
       "      <td>1</td>\n",
       "      <td>...</td>\n",
       "      <td>41</td>\n",
       "      <td>2</td>\n",
       "      <td>2</td>\n",
       "      <td>50</td>\n",
       "      <td>5</td>\n",
       "      <td>4</td>\n",
       "      <td>NaN</td>\n",
       "      <td>NaN</td>\n",
       "      <td>NaN</td>\n",
       "      <td>1</td>\n",
       "    </tr>\n",
       "    <tr>\n",
       "      <th>3</th>\n",
       "      <td>San Diego Wave FC</td>\n",
       "      <td>Amirah Ali</td>\n",
       "      <td>AMIRAHALI</td>\n",
       "      <td>FORWARD</td>\n",
       "      <td>5</td>\n",
       "      <td>1.0</td>\n",
       "      <td>114</td>\n",
       "      <td>0</td>\n",
       "      <td>63</td>\n",
       "      <td>0</td>\n",
       "      <td>...</td>\n",
       "      <td>33</td>\n",
       "      <td>0</td>\n",
       "      <td>2</td>\n",
       "      <td>67</td>\n",
       "      <td>1</td>\n",
       "      <td>2</td>\n",
       "      <td>NaN</td>\n",
       "      <td>NaN</td>\n",
       "      <td>NaN</td>\n",
       "      <td>0</td>\n",
       "    </tr>\n",
       "    <tr>\n",
       "      <th>4</th>\n",
       "      <td>Orlando Pride</td>\n",
       "      <td>Amanda Allen</td>\n",
       "      <td>AMANDAALLEN</td>\n",
       "      <td>FORWARD</td>\n",
       "      <td>7</td>\n",
       "      <td>NaN</td>\n",
       "      <td>81</td>\n",
       "      <td>0</td>\n",
       "      <td>70</td>\n",
       "      <td>1</td>\n",
       "      <td>...</td>\n",
       "      <td>60</td>\n",
       "      <td>1</td>\n",
       "      <td>3</td>\n",
       "      <td>60</td>\n",
       "      <td>0</td>\n",
       "      <td>0</td>\n",
       "      <td>NaN</td>\n",
       "      <td>NaN</td>\n",
       "      <td>NaN</td>\n",
       "      <td>0</td>\n",
       "    </tr>\n",
       "  </tbody>\n",
       "</table>\n",
       "<p>5 rows × 42 columns</p>\n",
       "</div>"
      ],
      "text/plain": [
       "                team   player_name conc_player_name  position  games_played  \\\n",
       "0      Orlando Pride  Kerry Abello      KERRYABELLO  DEFENDER            11   \n",
       "1      Seattle Reign  Emeri Adames      EMERIADAMES   FORWARD            11   \n",
       "2      Orlando Pride       Adriana          ADRIANA   FORWARD             9   \n",
       "3  San Diego Wave FC    Amirah Ali        AMIRAHALI   FORWARD             5   \n",
       "4      Orlando Pride  Amanda Allen      AMANDAALLEN   FORWARD             7   \n",
       "\n",
       "   games_started  minutes_played  goals  accurate_pass_percentage  assists  \\\n",
       "0           11.0             927      0                        81        1   \n",
       "1            3.0             273      1                        75        0   \n",
       "2            7.0             641      1                        76        1   \n",
       "3            1.0             114      0                        63        0   \n",
       "4            NaN              81      0                        70        1   \n",
       "\n",
       "   ...  dribble_percentage  goals_and_assists  tackles.1  tackles_percentage  \\\n",
       "0  ...                  52                  1         13                  45   \n",
       "1  ...                  20                  1          3                  60   \n",
       "2  ...                  41                  2          2                  50   \n",
       "3  ...                  33                  0          2                  67   \n",
       "4  ...                  60                  1          3                  60   \n",
       "\n",
       "   interceptions  headed_duel  gk_saves  gk_long_ball_percentage  \\\n",
       "0             10            5       NaN                      NaN   \n",
       "1              3            7       NaN                      NaN   \n",
       "2              5            4       NaN                      NaN   \n",
       "3              1            2       NaN                      NaN   \n",
       "4              0            0       NaN                      NaN   \n",
       "\n",
       "   gk_total_clearance   prediction  \n",
       "0                 NaN            1  \n",
       "1                 NaN            1  \n",
       "2                 NaN            1  \n",
       "3                 NaN            0  \n",
       "4                 NaN            0  \n",
       "\n",
       "[5 rows x 42 columns]"
      ]
     },
     "execution_count": 26,
     "metadata": {},
     "output_type": "execute_result"
    }
   ],
   "source": [
    "# Read the prediction file into a DataFrames\n",
    "predictions = pd.read_csv('../predictions.csv')\n",
    "\n",
    "# Merge the DataFrames based on the common column 'id'\n",
    "merged_df = pd.merge(df, predictions, on='player_name')\n",
    "\n",
    "# Display the merged DataFrame\n",
    "merged_df.head()"
   ]
  },
  {
   "cell_type": "code",
   "execution_count": 27,
   "id": "ac720655-f0c9-4675-9dca-56b2149e248a",
   "metadata": {
    "tags": []
   },
   "outputs": [],
   "source": [
    "# filter to only forwards\n",
    "filtered_forwards = merged_df[merged_df['position'] == 'FORWARD']"
   ]
  },
  {
   "cell_type": "code",
   "execution_count": 29,
   "id": "7b32811f-2b67-45e6-a688-97a824ee0951",
   "metadata": {},
   "outputs": [
    {
     "name": "stdout",
     "output_type": "stream",
     "text": [
      "Number correct: 72\n",
      "Number incorrect: 24\n",
      "Percent correct: 75.0%\n"
     ]
    }
   ],
   "source": [
    "# define the conditions we'll use to count number of correct and incorrect predictions\n",
    "predicted_true = (filtered_forwards[' prediction'] == 1)\n",
    "more_than_2_goals = (filtered_forwards['goals'] >= 2)\n",
    "\n",
    "# Count number of correct/incorrect predictions\n",
    "correct_predictions = filtered_forwards[more_than_2_goals & predicted_true].shape[0] + filtered_forwards[~more_than_2_goals & ~predicted_true].shape[0]\n",
    "incorrect_predictions = filtered_forwards[~more_than_2_goals & predicted_true].shape[0] + filtered_forwards[more_than_2_goals & ~predicted_true].shape[0]\n",
    "total = correct_predictions + incorrect_predictions\n",
    "\n",
    "# Print the count\n",
    "print('Number correct: ' + str(correct_predictions))\n",
    "print('Number incorrect: ' + str(incorrect_predictions))\n",
    "print('Percent correct: ' + str(correct_predictions/total*100) + '%')"
   ]
  },
  {
   "cell_type": "code",
   "execution_count": null,
   "id": "e6d4b8d3-404b-4af4-ba46-9e96c0f45ffd",
   "metadata": {},
   "outputs": [],
   "source": []
  }
 ],
 "metadata": {
  "kernelspec": {
   "display_name": "Python 3 (ipykernel)",
   "language": "python",
   "name": "python3"
  },
  "language_info": {
   "codemirror_mode": {
    "name": "ipython",
    "version": 3
   },
   "file_extension": ".py",
   "mimetype": "text/x-python",
   "name": "python",
   "nbconvert_exporter": "python",
   "pygments_lexer": "ipython3",
   "version": "3.10.8"
  }
 },
 "nbformat": 4,
 "nbformat_minor": 5
}
